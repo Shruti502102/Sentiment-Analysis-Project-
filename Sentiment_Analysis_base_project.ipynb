{
  "nbformat": 4,
  "nbformat_minor": 0,
  "metadata": {
    "colab": {
      "provenance": []
    },
    "kernelspec": {
      "name": "python3",
      "display_name": "Python 3"
    },
    "language_info": {
      "name": "python"
    }
  },
  "cells": [
    {
      "cell_type": "markdown",
      "source": [
        "# **26/11/24**"
      ],
      "metadata": {
        "id": "K1-BGI2oD5nV"
      }
    },
    {
      "cell_type": "code",
      "source": [
        "import tensorflow as tf\n",
        "from tensorflow.keras.datasets import imdb\n",
        "from tensorflow.keras.preprocessing.sequence import pad_sequences\n",
        "from tensorflow.keras.models import Sequential\n",
        "from tensorflow.keras.layers import Embedding, SimpleRNN, Dense"
      ],
      "metadata": {
        "id": "tvpPAK_lErCK"
      },
      "execution_count": null,
      "outputs": []
    },
    {
      "cell_type": "code",
      "source": [
        "# LOAD IMDB Dataset\n",
        "vocab_size=10000#only consider top 10,000 words\n",
        "max_length=500 #maximum length of each sequence\n",
        "(x_train,y_train),(x_test,y_test)=imdb.load_data(num_words=vocab_size)"
      ],
      "metadata": {
        "colab": {
          "base_uri": "https://localhost:8080/"
        },
        "id": "jZIYuGQ1EUp3",
        "outputId": "756c9dc9-4694-47d2-eebc-d30cea653423"
      },
      "execution_count": null,
      "outputs": [
        {
          "output_type": "stream",
          "name": "stdout",
          "text": [
            "Downloading data from https://storage.googleapis.com/tensorflow/tf-keras-datasets/imdb.npz\n",
            "\u001b[1m17464789/17464789\u001b[0m \u001b[32m━━━━━━━━━━━━━━━━━━━━\u001b[0m\u001b[37m\u001b[0m \u001b[1m0s\u001b[0m 0us/step\n"
          ]
        }
      ]
    },
    {
      "cell_type": "code",
      "source": [
        "#preprocess data: pad sequences to make them all the same length - scaling\n",
        "x_train=pad_sequences(x_train,maxlen=max_length)\n",
        "x_test=pad_sequences(x_test,maxlen=max_length)"
      ],
      "metadata": {
        "id": "i2wday8QE-yj"
      },
      "execution_count": null,
      "outputs": []
    },
    {
      "cell_type": "code",
      "source": [
        "#define model\n",
        "model=Sequential([\n",
        "    Embedding(input_dim=vocab_size,output_dim=32,input_length=max_length),\n",
        "    SimpleRNN(units=32,return_sequences=False),#rnn layer\n",
        "    Dense(1,activation='sigmoid')#o/p layer\n",
        "])"
      ],
      "metadata": {
        "colab": {
          "base_uri": "https://localhost:8080/"
        },
        "id": "JNS84hwtFcZH",
        "outputId": "473b7c65-5730-42d4-e5c4-587a1478720f"
      },
      "execution_count": null,
      "outputs": [
        {
          "output_type": "stream",
          "name": "stderr",
          "text": [
            "/usr/local/lib/python3.10/dist-packages/keras/src/layers/core/embedding.py:90: UserWarning: Argument `input_length` is deprecated. Just remove it.\n",
            "  warnings.warn(\n"
          ]
        }
      ]
    },
    {
      "cell_type": "code",
      "source": [
        "#compile model\n",
        "model.compile(optimizer='adam',loss=\"binary_crossentropy\",metrics=['accuracy'])"
      ],
      "metadata": {
        "id": "9fSEoUg9Gu3h"
      },
      "execution_count": null,
      "outputs": []
    },
    {
      "cell_type": "code",
      "source": [
        "#train model\n",
        "print('Training the model...')\n",
        "model.fit(x_train,y_train,epochs=3,batch_size=64,validation_split=0.2)"
      ],
      "metadata": {
        "colab": {
          "base_uri": "https://localhost:8080/"
        },
        "id": "rUMeLBiJHlem",
        "outputId": "d6bffc93-fe86-4881-e5d0-f31c6e97d028"
      },
      "execution_count": null,
      "outputs": [
        {
          "output_type": "stream",
          "name": "stdout",
          "text": [
            "Training the model...\n",
            "Epoch 1/3\n",
            "\u001b[1m313/313\u001b[0m \u001b[32m━━━━━━━━━━━━━━━━━━━━\u001b[0m\u001b[37m\u001b[0m \u001b[1m49s\u001b[0m 149ms/step - accuracy: 0.5545 - loss: 0.6795 - val_accuracy: 0.7004 - val_loss: 0.5761\n",
            "Epoch 2/3\n",
            "\u001b[1m313/313\u001b[0m \u001b[32m━━━━━━━━━━━━━━━━━━━━\u001b[0m\u001b[37m\u001b[0m \u001b[1m46s\u001b[0m 147ms/step - accuracy: 0.7945 - loss: 0.4525 - val_accuracy: 0.8118 - val_loss: 0.4346\n",
            "Epoch 3/3\n",
            "\u001b[1m313/313\u001b[0m \u001b[32m━━━━━━━━━━━━━━━━━━━━\u001b[0m\u001b[37m\u001b[0m \u001b[1m46s\u001b[0m 147ms/step - accuracy: 0.9158 - loss: 0.2218 - val_accuracy: 0.6132 - val_loss: 0.8038\n"
          ]
        },
        {
          "output_type": "execute_result",
          "data": {
            "text/plain": [
              "<keras.src.callbacks.history.History at 0x7e05bf69c490>"
            ]
          },
          "metadata": {},
          "execution_count": 8
        }
      ]
    },
    {
      "cell_type": "code",
      "source": [
        "#evaluate model\n",
        "print(\"\\nEvaluating the model...\")\n",
        "loss,accuracy=model.evaluate(x_test,y_test)\n",
        "print(f\"Test loss:{loss:.4f}\")\n",
        "print(f\"Test accuracy:{accuracy*100:.2f}%\")"
      ],
      "metadata": {
        "colab": {
          "base_uri": "https://localhost:8080/"
        },
        "id": "SveltxRuH-Ja",
        "outputId": "7ddc37f4-c74c-4aa2-f973-2b4a3218b9d2"
      },
      "execution_count": null,
      "outputs": [
        {
          "output_type": "stream",
          "name": "stdout",
          "text": [
            "\n",
            "Evaluating the model...\n",
            "\u001b[1m782/782\u001b[0m \u001b[32m━━━━━━━━━━━━━━━━━━━━\u001b[0m\u001b[37m\u001b[0m \u001b[1m21s\u001b[0m 27ms/step - accuracy: 0.6175 - loss: 0.7801\n",
            "Test loss:0.7841\n",
            "Test accuracy:61.85%\n"
          ]
        }
      ]
    },
    {
      "cell_type": "code",
      "source": [
        "#test with custom i/p\n",
        "#decode imdb word index\n",
        "word_index=imdb.get_word_index()\n",
        "reverse_word_index={value:key for key, value in word_index.items()}\n",
        "def decode_review(sequence):\n",
        "    return ' '.join([reverse_word_index.get(i-3,'?') for i in sequence])\n",
        "text_review=x_test[0]\n",
        "test_review_padded=pad_sequences([text_review],maxlen=max_length)\n",
        "prediction=model.predict(test_review_padded)\n",
        "print(\"Sentiment Prediction:\",\"Positive\" if prediction>0.5 else \"Negative\")\n",
        "#print(\"\\n Decoded review:\",decode_review(test_review))\n",
        "#print(\"Sentiment\")if.modrlpredict"
      ],
      "metadata": {
        "colab": {
          "base_uri": "https://localhost:8080/"
        },
        "id": "_Sl62Ze8IWCk",
        "outputId": "c84ff89f-9d6a-47aa-dee3-ada585e306c2"
      },
      "execution_count": null,
      "outputs": [
        {
          "output_type": "stream",
          "name": "stdout",
          "text": [
            "\u001b[1m1/1\u001b[0m \u001b[32m━━━━━━━━━━━━━━━━━━━━\u001b[0m\u001b[37m\u001b[0m \u001b[1m0s\u001b[0m 33ms/step\n",
            "Sentiment Prediction: Negative\n"
          ]
        }
      ]
    },
    {
      "cell_type": "code",
      "source": [
        "#1.load imdb word index\n",
        "word_index=imdb.get_word_index()\n",
        "reverse_word_index={value:key for key,value in word_index.items()}"
      ],
      "metadata": {
        "id": "HmxWnIe3Lf8T"
      },
      "execution_count": null,
      "outputs": []
    },
    {
      "cell_type": "code",
      "source": [
        "#2. preprocess custom review\n",
        "def preprocess_review(review):\n",
        "    words=review_text.lower().split()#convert review lowercase and split into words\n",
        "    # convert words to integers using imdb word index\n",
        "    tokenized_review=[word_index.get(word,0) for word in words]# use 2 for unknown\n",
        "    # pad tokenized seq\n",
        "    return pad_sequences([tokenized_review],maxlen=max_length)\n"
      ],
      "metadata": {
        "id": "hwBr6JsdPZdG"
      },
      "execution_count": null,
      "outputs": []
    },
    {
      "cell_type": "code",
      "source": [
        "#3.test custom i/p\n",
        "custom_review=input(\"Enter your review: \")\n",
        "test_review_padded=preprocess_review(custom_review)\n",
        "prediction=model.predict(test_review_padded)\n",
        "print(\"Sentiment Prediction:\",\"Positive\" if prediction>0.5 else \"Negative"
      ],
      "metadata": {
        "id": "qEQAz6qXQRED"
      },
      "execution_count": null,
      "outputs": []
    }
  ]
}